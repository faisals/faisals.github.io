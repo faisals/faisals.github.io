{
    "metadata": {
        "kernelspec": {
            "name": "SQL",
            "display_name": "SQL",
            "language": "sql"
        },
        "language_info": {
            "name": "sql",
            "version": ""
        }
    },
    "nbformat_minor": 2,
    "nbformat": 4,
    "cells": [
        {
            "cell_type": "markdown",
            "source": [
                "# Preserving Database Load Statistics as part of a migration from OnPrem to Azure\n",
                "\n",
                "This exercise aims to set up a process to capture key performance and load metrics of your SQL Server databases before and after migrating them from on-premises to Azure. The metrics being captured include read requests, reads, writes, and IO stalls for each database file. This information is essential for understanding how our systems behave under normal conditions on-premises and to establish a performance baseline.\n",
                "\n",
                "By scheduling a job to run every minute, we will have a comprehensive, high-resolution picture of the performance of each database in our system. This minute-by-minute snapshot will give us a granular look at how your system performs throughout the day, capturing peak loads, idle times, and everything in between.\n",
                "\n",
                "Once the migration to Azure is complete, we will continue to capture this information from Azure SQL instances and have some baseline to compare to when we have to compare performance between onPrem and Azure Environments. This will help us highlight any performance improvements, regressions, or changes in load patterns. This will not only validate the effectiveness of the migration but also help in tuning and optimizing the databases in the new environment.\n",
                ""
            ],
            "metadata": {
                "azdata_cell_guid": "b8cd2bd0-e0e6-4d73-8ca8-ecc4a8e79318"
            },
            "attachments": {}
        },
        {
            "cell_type": "markdown",
            "source": [
                "# Setup\n",
                "To set this up we will need following new objects in a DBAUtility Like Database.\n",
                "* dbo.IOStats\n",
                "* dbo.CaptureIOStats\n",
                "* New SQL Task Scheduler Job\n",
                "\n",
                "## Setup New Table and Stored Procedure\n",
                "Following query will create the table and stored procedure objects required for this \n",
                "\n",
                ""
            ],
            "metadata": {
                "azdata_cell_guid": "76c8ebc4-f2fd-4644-98c6-5be2ab8a9a9a"
            },
            "attachments": {}
        },
        {
            "cell_type": "code",
            "source": [
                "CREATE TABLE dbo.IOStats\n",
                "(\n",
                "    RecordID int IDENTITY(1,1) PRIMARY KEY,\n",
                "    DatabaseName nvarchar(128),\n",
                "    DatabaseId smallint,\n",
                "    Filename nvarchar(260),\n",
                "    TotalReadRequests bigint,\n",
                "    TotalReads bigint,\n",
                "    TotalWrites bigint,\n",
                "    IOStall bigint,\n",
                "    DateRecorded datetime\n",
                ")\n",
                "GO \n",
                "\n",
                "\n",
                "\n",
                "CREATE OR ALTER PROCEDURE dbo.CaptureIOStats\n",
                "AS\n",
                "BEGIN\n",
                "    INSERT INTO dbo.IOStats (DatabaseName, DatabaseId, Filename, TotalReadRequests, TotalReads, TotalWrites, IOStall, DateRecorded)\n",
                "    SELECT \n",
                "        DB_NAME(fs.database_id) AS DatabaseName,\n",
                "        fs.database_id AS DatabaseId,\n",
                "        mf.name AS Filename,\n",
                "        fs.num_of_reads AS TotalReadRequests,\n",
                "        fs.num_of_bytes_read AS TotalReads,\n",
                "        fs.num_of_bytes_written AS TotalWrites,\n",
                "        fs.io_stall AS IOStall,\n",
                "        GETDATE() AS DateRecorded\n",
                "    FROM sys.dm_io_virtual_file_stats(NULL, NULL) AS fs\n",
                "    JOIN sys.master_files AS mf\n",
                "    ON fs.database_id = mf.database_id AND fs.file_id = mf.file_id;\n",
                "END\n",
                "GO"
            ],
            "metadata": {
                "azdata_cell_guid": "c82e170e-b6c8-4746-81e1-b635400e061f",
                "language": "sql"
            },
            "outputs": [],
            "execution_count": null
        },
        {
            "cell_type": "markdown",
            "source": [
                "## Setup: SQL Agent Job\n",
                "Job will run the following query on a DBAUtility like database \n",
                "`exec dbo.CaptureIOStats`\n",
                "\n",
                "| Property | Value | \n",
                "| --- | --- | \n",
                "| Frequency | Every One Minute | \n",
                "| Scheduled to/from | 1201 am to 1159 pm daily, 7 days a week | \n",
                "| Which Instances to include | All SQL server Instances that are part of the On-Orem to Azure Migration | \n",
                "| Alerts | All job failure alerts to be sent to psdata@rsimail.com and corresponding tech team group | \n",
                ""
            ],
            "metadata": {
                "language": "sql",
                "azdata_cell_guid": "0e4eb8bf-f8cb-486b-94b4-9e9bd20946e4"
            },
            "attachments": {}
        },
        {
            "cell_type": "markdown",
            "source": [
                "# Storage needs, Data Cleanup, MISC.\n",
                "\n",
                "## Size\n",
                "\n",
                "Rough estimate, for 30 day for a regular project is under 5GB per instance.\n",
                "\n",
                "| Every Minute | Minutes in and Hour | Hours in a Day | 30 days | 588 Bytes per Row | Total Bytes | Total GB |\n",
                "| --- | --- | --- | --- | --- | --- | --- |\n",
                "| 200 | 60 | 24 | 30 | 588 | 4,819,840,000 bytes | 4.48 GB |\n",
                "\n",
                "```\n",
                "\n",
                "RecordID (int) - 4 bytes DatabaseName (varchar(128)) - 2 bytes per character (assuming non-Unicode), so at most 256 bytes. \n",
                "\n",
                "DatabaseId (smallint) - 2 bytes Filename (varchar(128)) - 256 bytes if you use the maximum length. \n",
                "\n",
                "TotalReadRequests (bigint) - 8 bytes \n",
                "\n",
                "TotalReads (bigint) - 8 bytes \n",
                "\n",
                "TotalWrites (bigint) - 8 bytes \n",
                "\n",
                "IOStall (bigint) - 8 bytes \n",
                "\n",
                "DateRecorded (datetime) - 8 bytes\n",
                "\n",
                "So, the total is 4 + 256 + 2 + 256 + 8 + 8 + 8 + 8 + 8 = 558 bytes per row.\n",
                "\n",
                "30 days for 200 files, the number of rows would be: 60 (minutes/hour) x 24 (hours/day) x 30 (days) x 200 (files) = 8,640,000 rows.\n",
                "\n",
                "So the total size required for the IOStats table would be approximately 558 (bytes/row) x 8,640,000 (rows) = 4,819,840,000 bytes or approximately 4.48 GB.\n",
                "\n",
                "```"
            ],
            "metadata": {
                "language": "sql",
                "azdata_cell_guid": "8a15cfe6-83bf-4cd9-b8a5-d85f1d39af88"
            },
            "attachments": {}
        },
        {
            "cell_type": "markdown",
            "source": [
                "# How to make sense of this data once it is collected\n",
                "\n",
                "You can use the following query to view data collected. Goal right now is to preserve the data and have some baseline to compare to once we are in Azure. \n",
                ""
            ],
            "metadata": {
                "language": "sql",
                "azdata_cell_guid": "f9f52e51-27f6-4c57-90eb-9be33ae40112"
            },
            "attachments": {}
        },
        {
            "cell_type": "code",
            "source": [
                "WITH GroupedStats AS (\n",
                "    SELECT \n",
                "        DatabaseName, \n",
                "        DateRecorded,\n",
                "        SUM(TotalReadRequests) AS TotalReadRequests,\n",
                "        SUM(TotalReads) AS TotalReads,\n",
                "        SUM(TotalWrites) AS TotalWrites,\n",
                "        SUM(IOStall) AS IOStall\n",
                "    FROM \n",
                "        dbo.IOStats\n",
                "    GROUP BY \n",
                "        DatabaseName, \n",
                "        DateRecorded\n",
                ")\n",
                "\n",
                "SELECT \n",
                "    DatabaseName, \n",
                "    DateRecorded,\n",
                "    TotalReadRequests - LAG(TotalReadRequests, 1, 0) OVER (PARTITION BY DatabaseName ORDER BY DateRecorded) AS DeltaReadRequests,\n",
                "    TotalReads - LAG(TotalReads, 1, 0) OVER (PARTITION BY DatabaseName ORDER BY DateRecorded) AS DeltaReads,\n",
                "    TotalWrites - LAG(TotalWrites, 1, 0) OVER (PARTITION BY DatabaseName ORDER BY DateRecorded) AS DeltaWrites,\n",
                "    IOStall - LAG(IOStall, 1, 0) OVER (PARTITION BY DatabaseName ORDER BY DateRecorded) AS DeltaIOStall,\n",
                "    DATEDIFF(second, LAG(DateRecorded, 1) OVER (PARTITION BY DatabaseName ORDER BY DateRecorded), DateRecorded) AS SecondsDiff\n",
                "FROM \n",
                "    GroupedStats\n",
                "ORDER BY \n",
                "    DatabaseName, \n",
                "    DateRecorded"
            ],
            "metadata": {
                "language": "sql",
                "azdata_cell_guid": "87afce19-df80-463f-97f2-22fc86a44042"
            },
            "outputs": [],
            "execution_count": null
        },
        {
            "cell_type": "markdown",
            "source": [
                "# End Goal - Cutover\n",
                "It is expected as part of the final cutover from OnPrem to Azure, we will have to backup and migrate the database containing this table or this table on its own to Azure, from all relevant instances."
            ],
            "metadata": {
                "language": "sql",
                "azdata_cell_guid": "183f2915-fb85-43db-bc9d-6eb309c8111b"
            },
            "attachments": {}
        }
    ]
}